{
 "cells": [
  {
   "cell_type": "code",
   "execution_count": 1,
   "id": "731edd5d-72b3-4bd7-8b39-b40c85bf76a7",
   "metadata": {},
   "outputs": [
    {
     "data": {
      "text/html": [
       "<div>\n",
       "<style scoped>\n",
       "    .dataframe tbody tr th:only-of-type {\n",
       "        vertical-align: middle;\n",
       "    }\n",
       "\n",
       "    .dataframe tbody tr th {\n",
       "        vertical-align: top;\n",
       "    }\n",
       "\n",
       "    .dataframe thead th {\n",
       "        text-align: right;\n",
       "    }\n",
       "</style>\n",
       "<table border=\"1\" class=\"dataframe\">\n",
       "  <thead>\n",
       "    <tr style=\"text-align: right;\">\n",
       "      <th></th>\n",
       "      <th>order_id</th>\n",
       "      <th>customer_id</th>\n",
       "      <th>order_status</th>\n",
       "      <th>order_purchase_timestamp</th>\n",
       "      <th>order_approved_at</th>\n",
       "      <th>order_delivered_carrier_date</th>\n",
       "      <th>order_delivered_customer_date</th>\n",
       "      <th>order_estimated_delivery_date</th>\n",
       "    </tr>\n",
       "  </thead>\n",
       "  <tbody>\n",
       "    <tr>\n",
       "      <th>0</th>\n",
       "      <td>e481f51cbdc54678b7cc49136f2d6af7</td>\n",
       "      <td>9ef432eb6251297304e76186b10a928d</td>\n",
       "      <td>delivered</td>\n",
       "      <td>2017-10-02 10:56:33</td>\n",
       "      <td>2017-10-02 11:07:15</td>\n",
       "      <td>2017-10-04 19:55:00</td>\n",
       "      <td>2017-10-10 21:25:13</td>\n",
       "      <td>2017-10-18 00:00:00</td>\n",
       "    </tr>\n",
       "    <tr>\n",
       "      <th>1</th>\n",
       "      <td>53cdb2fc8bc7dce0b6741e2150273451</td>\n",
       "      <td>b0830fb4747a6c6d20dea0b8c802d7ef</td>\n",
       "      <td>delivered</td>\n",
       "      <td>2018-07-24 20:41:37</td>\n",
       "      <td>2018-07-26 03:24:27</td>\n",
       "      <td>2018-07-26 14:31:00</td>\n",
       "      <td>2018-08-07 15:27:45</td>\n",
       "      <td>2018-08-13 00:00:00</td>\n",
       "    </tr>\n",
       "    <tr>\n",
       "      <th>2</th>\n",
       "      <td>47770eb9100c2d0c44946d9cf07ec65d</td>\n",
       "      <td>41ce2a54c0b03bf3443c3d931a367089</td>\n",
       "      <td>delivered</td>\n",
       "      <td>2018-08-08 08:38:49</td>\n",
       "      <td>2018-08-08 08:55:23</td>\n",
       "      <td>2018-08-08 13:50:00</td>\n",
       "      <td>2018-08-17 18:06:29</td>\n",
       "      <td>2018-09-04 00:00:00</td>\n",
       "    </tr>\n",
       "    <tr>\n",
       "      <th>3</th>\n",
       "      <td>949d5b44dbf5de918fe9c16f97b45f8a</td>\n",
       "      <td>f88197465ea7920adcdbec7375364d82</td>\n",
       "      <td>delivered</td>\n",
       "      <td>2017-11-18 19:28:06</td>\n",
       "      <td>2017-11-18 19:45:59</td>\n",
       "      <td>2017-11-22 13:39:59</td>\n",
       "      <td>2017-12-02 00:28:42</td>\n",
       "      <td>2017-12-15 00:00:00</td>\n",
       "    </tr>\n",
       "    <tr>\n",
       "      <th>4</th>\n",
       "      <td>ad21c59c0840e6cb83a9ceb5573f8159</td>\n",
       "      <td>8ab97904e6daea8866dbdbc4fb7aad2c</td>\n",
       "      <td>delivered</td>\n",
       "      <td>2018-02-13 21:18:39</td>\n",
       "      <td>2018-02-13 22:20:29</td>\n",
       "      <td>2018-02-14 19:46:34</td>\n",
       "      <td>2018-02-16 18:17:02</td>\n",
       "      <td>2018-02-26 00:00:00</td>\n",
       "    </tr>\n",
       "  </tbody>\n",
       "</table>\n",
       "</div>"
      ],
      "text/plain": [
       "                           order_id                       customer_id  \\\n",
       "0  e481f51cbdc54678b7cc49136f2d6af7  9ef432eb6251297304e76186b10a928d   \n",
       "1  53cdb2fc8bc7dce0b6741e2150273451  b0830fb4747a6c6d20dea0b8c802d7ef   \n",
       "2  47770eb9100c2d0c44946d9cf07ec65d  41ce2a54c0b03bf3443c3d931a367089   \n",
       "3  949d5b44dbf5de918fe9c16f97b45f8a  f88197465ea7920adcdbec7375364d82   \n",
       "4  ad21c59c0840e6cb83a9ceb5573f8159  8ab97904e6daea8866dbdbc4fb7aad2c   \n",
       "\n",
       "  order_status order_purchase_timestamp    order_approved_at  \\\n",
       "0    delivered      2017-10-02 10:56:33  2017-10-02 11:07:15   \n",
       "1    delivered      2018-07-24 20:41:37  2018-07-26 03:24:27   \n",
       "2    delivered      2018-08-08 08:38:49  2018-08-08 08:55:23   \n",
       "3    delivered      2017-11-18 19:28:06  2017-11-18 19:45:59   \n",
       "4    delivered      2018-02-13 21:18:39  2018-02-13 22:20:29   \n",
       "\n",
       "  order_delivered_carrier_date order_delivered_customer_date  \\\n",
       "0          2017-10-04 19:55:00           2017-10-10 21:25:13   \n",
       "1          2018-07-26 14:31:00           2018-08-07 15:27:45   \n",
       "2          2018-08-08 13:50:00           2018-08-17 18:06:29   \n",
       "3          2017-11-22 13:39:59           2017-12-02 00:28:42   \n",
       "4          2018-02-14 19:46:34           2018-02-16 18:17:02   \n",
       "\n",
       "  order_estimated_delivery_date  \n",
       "0           2017-10-18 00:00:00  \n",
       "1           2018-08-13 00:00:00  \n",
       "2           2018-09-04 00:00:00  \n",
       "3           2017-12-15 00:00:00  \n",
       "4           2018-02-26 00:00:00  "
      ]
     },
     "execution_count": 1,
     "metadata": {},
     "output_type": "execute_result"
    }
   ],
   "source": [
    "import pandas as pd\n",
    "\n",
    "orders = pd.read_csv('C:/Users/Nisarg/Desktop/oilst/olist_orders_dataset.csv')\n",
    "order_items = pd.read_csv('C:/Users/Nisarg/Desktop/oilst/olist_order_items_dataset.csv')\n",
    "products = pd.read_csv('C:/Users/Nisarg/Desktop/oilst/olist_products_dataset.csv')\n",
    "reviews = pd.read_csv('C:/Users/Nisarg/Desktop/oilst/olist_order_reviews_dataset.csv')\n",
    "customers = pd.read_csv('C:/Users/Nisarg/Desktop/oilst/olist_customers_dataset.csv')\n",
    "payments = pd.read_csv('C:/Users/Nisarg/Desktop/oilst/olist_order_payments_dataset.csv')\n",
    "category_translation = pd.read_csv('C:/Users/Nisarg/Desktop/oilst/product_category_name_translation.csv')\n",
    "\n",
    "orders.head()\n"
   ]
  },
  {
   "cell_type": "markdown",
   "id": "63e7af56-aae9-45da-a3f9-bb471ad94d1c",
   "metadata": {},
   "source": [
    "# Check status counts"
   ]
  },
  {
   "cell_type": "code",
   "execution_count": 2,
   "id": "02a7ec10-4f31-445f-8e82-e8fc113ab994",
   "metadata": {},
   "outputs": [
    {
     "name": "stdout",
     "output_type": "stream",
     "text": [
      "order_status\n",
      "delivered      96478\n",
      "shipped         1107\n",
      "canceled         625\n",
      "unavailable      609\n",
      "invoiced         314\n",
      "processing       301\n",
      "created            5\n",
      "approved           2\n",
      "Name: count, dtype: int64\n"
     ]
    }
   ],
   "source": [
    "print(orders['order_status'].value_counts())"
   ]
  },
  {
   "cell_type": "markdown",
   "id": "2d0d4d2f-5ab9-48e9-99d7-430792702974",
   "metadata": {},
   "source": [
    "# Add return flag"
   ]
  },
  {
   "cell_type": "code",
   "execution_count": 3,
   "id": "a4452368-9138-4789-82e1-ff8c746b2438",
   "metadata": {},
   "outputs": [
    {
     "name": "stdout",
     "output_type": "stream",
     "text": [
      "Overall Return Rate: 0.63%\n"
     ]
    }
   ],
   "source": [
    "orders['is_returned'] = orders['order_status'].apply(lambda x: 1 if x == 'canceled' else 0)\n",
    "\n",
    "# Calculate overall return rate\n",
    "\n",
    "return_rate = orders['is_returned'].mean()\n",
    "print(f\"Overall Return Rate: {round(return_rate * 100, 2)}%\")"
   ]
  },
  {
   "cell_type": "markdown",
   "id": "850ba978-29e7-487f-a517-1bda8a669a45",
   "metadata": {},
   "source": [
    "# Merge Orders + Order Items + Products"
   ]
  },
  {
   "cell_type": "code",
   "execution_count": 4,
   "id": "6444491f-361e-44a5-ae23-4328f3e54ac0",
   "metadata": {},
   "outputs": [
    {
     "name": "stdout",
     "output_type": "stream",
     "text": [
      "                                               count  sum  return_rate\n",
      "product_category_name                                                 \n",
      "pc_gamer                                           9    1    11.111111\n",
      "portateis_cozinha_e_preparadores_de_alimentos     15    1     6.666667\n",
      "dvds_blu_ray                                      64    2     3.125000\n",
      "construcao_ferramentas_seguranca                 194    5     2.577320\n",
      "fraldas_higiene                                   39    1     2.564103\n",
      "construcao_ferramentas_jardim                    238    4     1.680672\n",
      "instrumentos_musicais                            680   11     1.617647\n",
      "livros_interesse_geral                           553    7     1.265823\n",
      "eletrodomesticos_2                               238    3     1.260504\n",
      "eletroportateis                                  679    8     1.178203\n"
     ]
    }
   ],
   "source": [
    "orders_items_merged = pd.merge(order_items, orders[['order_id', 'is_returned']], on='order_id', how='left')\n",
    "\n",
    "orders_full = pd.merge(orders_items_merged, products[['product_id', 'product_category_name']], on='product_id', how='left')\n",
    "\n",
    "category_return = orders_full.groupby('product_category_name')['is_returned'].agg(['count', 'sum'])\n",
    "category_return['return_rate'] = (category_return['sum'] / category_return['count']) * 100\n",
    "category_return = category_return.sort_values(by='return_rate', ascending=False)\n",
    "\n",
    "# View top 10 categories with highest return rate\n",
    "\n",
    "print(category_return.head(10))"
   ]
  },
  {
   "cell_type": "markdown",
   "id": "a335a733-05d0-4655-9840-7470cf6d089b",
   "metadata": {},
   "source": [
    "# Return Rate by Price Range"
   ]
  },
  {
   "cell_type": "code",
   "execution_count": 5,
   "id": "55625f6c-fd7a-4fde-b236-b9d8b1eab074",
   "metadata": {},
   "outputs": [
    {
     "name": "stdout",
     "output_type": "stream",
     "text": [
      "                  count  sum  return_rate\n",
      "price_range                              \n",
      "Premium (₹500+)    3239   32     0.987959\n",
      "High (₹150–499)   19525  125     0.640205\n",
      "Low (< ₹50)       39024  178     0.456130\n",
      "Medium (₹50–149)  50862  207     0.406984\n"
     ]
    }
   ],
   "source": [
    "# Add price range column\n",
    "def price_bucket(price):\n",
    "    if price < 50:\n",
    "        return 'Low (< ₹50)'\n",
    "    elif 50 <= price < 150:\n",
    "        return 'Medium (₹50–149)'\n",
    "    elif 150 <= price < 500:\n",
    "        return 'High (₹150–499)'\n",
    "    else:\n",
    "        return 'Premium (₹500+)'\n",
    "\n",
    "orders_full['price_range'] = orders_full['price'].apply(price_bucket)\n",
    "\n",
    "# Return rate by price range\n",
    "price_return = orders_full.groupby('price_range')['is_returned'].agg(['count', 'sum'])\n",
    "price_return['return_rate'] = (price_return['sum'] / price_return['count']) * 100\n",
    "price_return = price_return.sort_values(by='return_rate', ascending=False)\n",
    "\n",
    "print(price_return)\n"
   ]
  },
  {
   "cell_type": "code",
   "execution_count": 6,
   "id": "32cbf878-7aeb-41a3-ac6f-f9faad5c69f3",
   "metadata": {},
   "outputs": [],
   "source": [
    "# Select required columns\n",
    "export_df = orders_full[[\n",
    "    'order_id',\n",
    "    'product_id',\n",
    "    'product_category_name',\n",
    "    'price',\n",
    "    'price_range',\n",
    "    'is_returned'\n",
    "]]\n",
    "\n",
    "# Export to CSV\n",
    "export_df.to_csv('return_analysis_clean.csv', index=False)\n"
   ]
  },
  {
   "cell_type": "code",
   "execution_count": null,
   "id": "da49867e-f4c2-4f4b-9b3d-52db9778abe9",
   "metadata": {},
   "outputs": [],
   "source": []
  }
 ],
 "metadata": {
  "kernelspec": {
   "display_name": "Python 3 (ipykernel)",
   "language": "python",
   "name": "python3"
  },
  "language_info": {
   "codemirror_mode": {
    "name": "ipython",
    "version": 3
   },
   "file_extension": ".py",
   "mimetype": "text/x-python",
   "name": "python",
   "nbconvert_exporter": "python",
   "pygments_lexer": "ipython3",
   "version": "3.12.7"
  }
 },
 "nbformat": 4,
 "nbformat_minor": 5
}
